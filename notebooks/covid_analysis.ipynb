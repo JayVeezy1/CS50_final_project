{
 "cells": [
  {
   "cell_type": "code",
   "execution_count": 3,
   "metadata": {},
   "outputs": [],
   "source": [
    "# import packages\n",
    "# print function needed later on. __future__ imports need to be first line\n",
    "from __future__ import print_function\n",
    "\n",
    "import pandas as pd\n",
    "import numpy as np\n",
    "\n",
    "from ipywidgets import interact, interactive, fixed, interact_manual\n",
    "import ipywidgets as widgets"
   ]
  },
  {
   "cell_type": "code",
   "execution_count": 4,
   "metadata": {},
   "outputs": [],
   "source": [
    "# get dataframes from github >> open file >> raw \n",
    "glbconfirmed_df = pd.read_csv(\"https://raw.githubusercontent.com/CSSEGISandData/COVID-19/master/csse_covid_19_data/csse_covid_19_time_series/time_series_covid19_confirmed_global.csv\")\n",
    "glbrecovered_df = pd.read_csv(\"https://raw.githubusercontent.com/CSSEGISandData/COVID-19/master/csse_covid_19_data/csse_covid_19_time_series/time_series_covid19_recovered_global.csv\")\n",
    "glbdeath_df = pd.read_csv(\"https://raw.githubusercontent.com/CSSEGISandData/COVID-19/master/csse_covid_19_data/csse_covid_19_time_series/time_series_covid19_deaths_global.csv\")\n",
    "country_df = pd.read_csv(\"https://raw.githubusercontent.com/CSSEGISandData/COVID-19/web-data/data/cases_country.csv\")"
   ]
  },
  {
   "cell_type": "code",
   "execution_count": 5,
   "metadata": {},
   "outputs": [],
   "source": [
    " # data cleaning (renaming to lower-case)\n",
    "country_df.columns = map(str.lower, country_df.columns)\n",
    "glbrecovered_df.columns = map(str.lower, glbrecovered_df.columns)\n",
    "glbdeath_df.columns = map(str.lower, glbdeath_df.columns)\n",
    "glbconfirmed_df.columns = map(str.lower, glbconfirmed_df.columns)"
   ]
  },
  {
   "cell_type": "code",
   "execution_count": 6,
   "metadata": {},
   "outputs": [],
   "source": [
    "# change province/state to state and country/region to country\n",
    "glbconfirmed_df = glbconfirmed_df.rename(columns = {'province/state': 'state', 'country/region': 'country'})\n",
    "glbrecovered_df = glbrecovered_df.rename(columns = {'province/state': 'state', 'country/region': 'country'})\n",
    "glbdeath_df = glbdeath_df.rename(columns = {'province/state': 'state', 'country/region': 'country'})\n",
    "country_df = country_df.rename(columns = {'country_region': 'country'})"
   ]
  },
  {
   "cell_type": "code",
   "execution_count": 7,
   "metadata": {
    "scrolled": true
   },
   "outputs": [],
   "source": [
    "country_df[\"confirmed\"] = country_df[\"confirmed\"].astype('Int64')\n",
    "country_df[\"deaths\"] = country_df[\"deaths\"].astype('Int64')\n",
    "country_df[\"active\"] = country_df[\"active\"].astype('Int64')\n",
    "country_df[\"recovered\"] = country_df[\"recovered\"].astype('Int64')\n",
    "# display(country_df.dtypes)"
   ]
  },
  {
   "cell_type": "code",
   "execution_count": 8,
   "metadata": {
    "scrolled": true
   },
   "outputs": [],
   "source": [
    "sorted_country_df = country_df.sort_values('confirmed', ascending=False)\n",
    "sorted_country_df.drop(columns=['lat', 'long_'], inplace = True)\n",
    "# sorted_country_df"
   ]
  },
  {
   "cell_type": "code",
   "execution_count": 9,
   "metadata": {},
   "outputs": [],
   "source": [
    "# plotting with plotly\n",
    "\n",
    "import plotly.express as px\n"
   ]
  },
  {
   "cell_type": "code",
   "execution_count": 10,
   "metadata": {
    "scrolled": true
   },
   "outputs": [],
   "source": [
    "#fig = px.scatter(sorted_country_df.head(10), x='country', y='confirmed', size='confirmed',\n",
    "                #color='country', hover_name=\"country\", size_max = 60)\n",
    "# fig.update_layout(title_text = \"Confirmed Covid-19 Cases\", title_font_size= 24)\n",
    "#fig.show()"
   ]
  },
  {
   "cell_type": "code",
   "execution_count": 11,
   "metadata": {},
   "outputs": [],
   "source": [
    "import plotly.graph_objects as go\n",
    "\n",
    "\n",
    "# nochmal ansehen wie das hier genau funktioniert! wichtig.\n",
    "def plot_cases_for_country(country):\n",
    "    labels = [\"confirmed\", \"deaths\"]\n",
    "    colors = [\"blue\", \"red\"]\n",
    "    mode_size = [6, 8]\n",
    "    line_size = [4, 5]\n",
    "\n",
    "    df_list = [glbconfirmed_df, glbdeath_df]\n",
    "\n",
    "    fig = go.Figure()\n",
    "\n",
    "    for i, df in enumerate(df_list):\n",
    "        if country == 'World' or country == 'world':\n",
    "            x_data = np.array(list(df.iloc[:, 5:].columns))\n",
    "            y_data = np.sum(np.asarray(df.iloc[:, 5:]), axis = 0)\n",
    "            \n",
    "        else: \n",
    "            x_data = np.array(list(df.iloc[:, 5:].columns))\n",
    "            y_data = np.sum(np.asarray(df[df['country'] == country].iloc[:, 5:]), axis = 0)\n",
    "            \n",
    "        fig.add_trace(go.Scatter(x = x_data, y = y_data, mode = 'lines+markers', \n",
    "                                name = labels[i],\n",
    "                                line = dict(color = colors[i], width = line_size[i]),\n",
    "                                connectgaps = True,\n",
    "                                text = \"Total\" + str(labels[i]) + \": \" + str(y_data[-1])\n",
    "                                ))\n",
    "        \n",
    "    fig.show()  \n",
    "\n",
    "# plot_cases_for_country('China')"
   ]
  },
  {
   "cell_type": "code",
   "execution_count": 12,
   "metadata": {},
   "outputs": [],
   "source": [
    "import folium"
   ]
  },
  {
   "cell_type": "code",
   "execution_count": 13,
   "metadata": {},
   "outputs": [],
   "source": [
    "world_map = folium.Map(location=[11, 0], tiles = \"cartodbpositron\", zoom_start=2, max_zoom = 6, min_zoom = 2)\n",
    "\n",
    "for i in range(len(glbconfirmed_df)):\n",
    "    folium.Circle(\n",
    "    location = [glbconfirmed_df.iloc[i]['lat'], glbconfirmed_df.iloc[i]['long']],\n",
    "    fill = True,\n",
    "    radius = (int((np.log(glbconfirmed_df.iloc[i, -1] + 1.00001))) + 0.2) * 50000, \n",
    "    fill_color = 'blue',\n",
    "    color = 'red',\n",
    "    ).add_to(world_map)\n",
    "    \n",
    "# world_map"
   ]
  },
  {
   "cell_type": "code",
   "execution_count": 14,
   "metadata": {
    "scrolled": true
   },
   "outputs": [],
   "source": [
    "# opens the voila dashboard and opens the jupyter file with it problem: loop\n",
    "# deshalb alternativ direkt über cmd voila ...\n",
    "# import sys\n",
    "# !voila C:\\Users\\vanek\\Documents\\Unterlagen\\Programmieren\\CS50\\final_project/covid_analysis.ipynb\n"
   ]
  },
  {
   "cell_type": "code",
   "execution_count": 15,
   "metadata": {},
   "outputs": [],
   "source": [
    "# Following are the Graphs which are in Voila:"
   ]
  },
  {
   "cell_type": "code",
   "execution_count": 16,
   "metadata": {},
   "outputs": [
    {
     "name": "stdout",
     "output_type": "stream",
     "text": [
      "This is an analysis of the most recent data covering Covid-19 distributed by John Hopkins University. For further information please visit: https://coronavirus.jhu.edu/about\n"
     ]
    }
   ],
   "source": [
    "print(\"This is an analysis of the most recent data covering Covid-19 distributed by John Hopkins University. For further information please visit: https://coronavirus.jhu.edu/about\")"
   ]
  },
  {
   "cell_type": "code",
   "execution_count": 17,
   "metadata": {
    "scrolled": false
   },
   "outputs": [
    {
     "data": {
      "application/vnd.jupyter.widget-view+json": {
       "model_id": "7a3b67887deb495681385ca0a3e3ae14",
       "version_major": 2,
       "version_minor": 0
      },
      "text/plain": [
       "interactive(children=(Text(value='World', description='country'), Output()), _dom_classes=('widget-interact',)…"
      ]
     },
     "metadata": {},
     "output_type": "display_data"
    }
   ],
   "source": [
    "# interact should show me an option to change the country directly!\n",
    "\n",
    "interact(plot_cases_for_country, country='World');"
   ]
  },
  {
   "cell_type": "code",
   "execution_count": 18,
   "metadata": {
    "scrolled": true
   },
   "outputs": [
    {
     "data": {
      "text/html": [
       "<style  type=\"text/css\" >\n",
       "#T_5ecd599c_2980_11eb_8c58_00090ffe0001row0_col4,#T_5ecd599c_2980_11eb_8c58_00090ffe0001row1_col4,#T_5ecd599c_2980_11eb_8c58_00090ffe0001row2_col4,#T_5ecd599c_2980_11eb_8c58_00090ffe0001row3_col4,#T_5ecd599c_2980_11eb_8c58_00090ffe0001row4_col4,#T_5ecd599c_2980_11eb_8c58_00090ffe0001row5_col4,#T_5ecd599c_2980_11eb_8c58_00090ffe0001row6_col4,#T_5ecd599c_2980_11eb_8c58_00090ffe0001row7_col4,#T_5ecd599c_2980_11eb_8c58_00090ffe0001row8_col4,#T_5ecd599c_2980_11eb_8c58_00090ffe0001row9_col4{\n",
       "            background-color:  plum;\n",
       "        }#T_5ecd599c_2980_11eb_8c58_00090ffe0001row0_col5,#T_5ecd599c_2980_11eb_8c58_00090ffe0001row1_col5,#T_5ecd599c_2980_11eb_8c58_00090ffe0001row2_col5,#T_5ecd599c_2980_11eb_8c58_00090ffe0001row3_col5,#T_5ecd599c_2980_11eb_8c58_00090ffe0001row4_col5,#T_5ecd599c_2980_11eb_8c58_00090ffe0001row5_col5,#T_5ecd599c_2980_11eb_8c58_00090ffe0001row6_col5,#T_5ecd599c_2980_11eb_8c58_00090ffe0001row7_col5,#T_5ecd599c_2980_11eb_8c58_00090ffe0001row8_col5,#T_5ecd599c_2980_11eb_8c58_00090ffe0001row9_col5{\n",
       "            background-color:  salmon;\n",
       "        }#T_5ecd599c_2980_11eb_8c58_00090ffe0001row0_col6,#T_5ecd599c_2980_11eb_8c58_00090ffe0001row1_col6,#T_5ecd599c_2980_11eb_8c58_00090ffe0001row2_col6,#T_5ecd599c_2980_11eb_8c58_00090ffe0001row3_col6,#T_5ecd599c_2980_11eb_8c58_00090ffe0001row4_col6,#T_5ecd599c_2980_11eb_8c58_00090ffe0001row5_col6,#T_5ecd599c_2980_11eb_8c58_00090ffe0001row6_col6,#T_5ecd599c_2980_11eb_8c58_00090ffe0001row7_col6,#T_5ecd599c_2980_11eb_8c58_00090ffe0001row8_col6,#T_5ecd599c_2980_11eb_8c58_00090ffe0001row9_col6{\n",
       "            background-color:  palegreen;\n",
       "        }</style><table id=\"T_5ecd599c_2980_11eb_8c58_00090ffe0001\" ><thead>    <tr>        <th class=\"blank level0\" ></th>        <th class=\"col_heading level0 col0\" >country</th>        <th class=\"col_heading level0 col1\" >last_update</th>        <th class=\"col_heading level0 col2\" >confirmed</th>        <th class=\"col_heading level0 col3\" >deaths</th>        <th class=\"col_heading level0 col4\" >recovered</th>        <th class=\"col_heading level0 col5\" >active</th>        <th class=\"col_heading level0 col6\" >incident_rate</th>        <th class=\"col_heading level0 col7\" >people_tested</th>        <th class=\"col_heading level0 col8\" >people_hospitalized</th>        <th class=\"col_heading level0 col9\" >mortality_rate</th>        <th class=\"col_heading level0 col10\" >uid</th>        <th class=\"col_heading level0 col11\" >iso3</th>    </tr></thead><tbody>\n",
       "                <tr>\n",
       "                        <th id=\"T_5ecd599c_2980_11eb_8c58_00090ffe0001level0_row0\" class=\"row_heading level0 row0\" >176</th>\n",
       "                        <td id=\"T_5ecd599c_2980_11eb_8c58_00090ffe0001row0_col0\" class=\"data row0 col0\" >US</td>\n",
       "                        <td id=\"T_5ecd599c_2980_11eb_8c58_00090ffe0001row0_col1\" class=\"data row0 col1\" >2020-11-18 08:26:30</td>\n",
       "                        <td id=\"T_5ecd599c_2980_11eb_8c58_00090ffe0001row0_col2\" class=\"data row0 col2\" >11359804</td>\n",
       "                        <td id=\"T_5ecd599c_2980_11eb_8c58_00090ffe0001row0_col3\" class=\"data row0 col3\" >248687</td>\n",
       "                        <td id=\"T_5ecd599c_2980_11eb_8c58_00090ffe0001row0_col4\" class=\"data row0 col4\" >4293640</td>\n",
       "                        <td id=\"T_5ecd599c_2980_11eb_8c58_00090ffe0001row0_col5\" class=\"data row0 col5\" >6817477</td>\n",
       "                        <td id=\"T_5ecd599c_2980_11eb_8c58_00090ffe0001row0_col6\" class=\"data row0 col6\" >3447.941288</td>\n",
       "                        <td id=\"T_5ecd599c_2980_11eb_8c58_00090ffe0001row0_col7\" class=\"data row0 col7\" >nan</td>\n",
       "                        <td id=\"T_5ecd599c_2980_11eb_8c58_00090ffe0001row0_col8\" class=\"data row0 col8\" >nan</td>\n",
       "                        <td id=\"T_5ecd599c_2980_11eb_8c58_00090ffe0001row0_col9\" class=\"data row0 col9\" >2.189184</td>\n",
       "                        <td id=\"T_5ecd599c_2980_11eb_8c58_00090ffe0001row0_col10\" class=\"data row0 col10\" >840</td>\n",
       "                        <td id=\"T_5ecd599c_2980_11eb_8c58_00090ffe0001row0_col11\" class=\"data row0 col11\" >USA</td>\n",
       "            </tr>\n",
       "            <tr>\n",
       "                        <th id=\"T_5ecd599c_2980_11eb_8c58_00090ffe0001level0_row1\" class=\"row_heading level0 row1\" >79</th>\n",
       "                        <td id=\"T_5ecd599c_2980_11eb_8c58_00090ffe0001row1_col0\" class=\"data row1 col0\" >India</td>\n",
       "                        <td id=\"T_5ecd599c_2980_11eb_8c58_00090ffe0001row1_col1\" class=\"data row1 col1\" >2020-11-18 08:26:30</td>\n",
       "                        <td id=\"T_5ecd599c_2980_11eb_8c58_00090ffe0001row1_col2\" class=\"data row1 col2\" >8912907</td>\n",
       "                        <td id=\"T_5ecd599c_2980_11eb_8c58_00090ffe0001row1_col3\" class=\"data row1 col3\" >130993</td>\n",
       "                        <td id=\"T_5ecd599c_2980_11eb_8c58_00090ffe0001row1_col4\" class=\"data row1 col4\" >8335109</td>\n",
       "                        <td id=\"T_5ecd599c_2980_11eb_8c58_00090ffe0001row1_col5\" class=\"data row1 col5\" >446805</td>\n",
       "                        <td id=\"T_5ecd599c_2980_11eb_8c58_00090ffe0001row1_col6\" class=\"data row1 col6\" >645.860774</td>\n",
       "                        <td id=\"T_5ecd599c_2980_11eb_8c58_00090ffe0001row1_col7\" class=\"data row1 col7\" >nan</td>\n",
       "                        <td id=\"T_5ecd599c_2980_11eb_8c58_00090ffe0001row1_col8\" class=\"data row1 col8\" >nan</td>\n",
       "                        <td id=\"T_5ecd599c_2980_11eb_8c58_00090ffe0001row1_col9\" class=\"data row1 col9\" >1.469700</td>\n",
       "                        <td id=\"T_5ecd599c_2980_11eb_8c58_00090ffe0001row1_col10\" class=\"data row1 col10\" >356</td>\n",
       "                        <td id=\"T_5ecd599c_2980_11eb_8c58_00090ffe0001row1_col11\" class=\"data row1 col11\" >IND</td>\n",
       "            </tr>\n",
       "            <tr>\n",
       "                        <th id=\"T_5ecd599c_2980_11eb_8c58_00090ffe0001level0_row2\" class=\"row_heading level0 row2\" >23</th>\n",
       "                        <td id=\"T_5ecd599c_2980_11eb_8c58_00090ffe0001row2_col0\" class=\"data row2 col0\" >Brazil</td>\n",
       "                        <td id=\"T_5ecd599c_2980_11eb_8c58_00090ffe0001row2_col1\" class=\"data row2 col1\" >2020-11-18 08:26:30</td>\n",
       "                        <td id=\"T_5ecd599c_2980_11eb_8c58_00090ffe0001row2_col2\" class=\"data row2 col2\" >5911758</td>\n",
       "                        <td id=\"T_5ecd599c_2980_11eb_8c58_00090ffe0001row2_col3\" class=\"data row2 col3\" >166699</td>\n",
       "                        <td id=\"T_5ecd599c_2980_11eb_8c58_00090ffe0001row2_col4\" class=\"data row2 col4\" >5358299</td>\n",
       "                        <td id=\"T_5ecd599c_2980_11eb_8c58_00090ffe0001row2_col5\" class=\"data row2 col5\" >386760</td>\n",
       "                        <td id=\"T_5ecd599c_2980_11eb_8c58_00090ffe0001row2_col6\" class=\"data row2 col6\" >2781.226212</td>\n",
       "                        <td id=\"T_5ecd599c_2980_11eb_8c58_00090ffe0001row2_col7\" class=\"data row2 col7\" >nan</td>\n",
       "                        <td id=\"T_5ecd599c_2980_11eb_8c58_00090ffe0001row2_col8\" class=\"data row2 col8\" >nan</td>\n",
       "                        <td id=\"T_5ecd599c_2980_11eb_8c58_00090ffe0001row2_col9\" class=\"data row2 col9\" >2.819787</td>\n",
       "                        <td id=\"T_5ecd599c_2980_11eb_8c58_00090ffe0001row2_col10\" class=\"data row2 col10\" >76</td>\n",
       "                        <td id=\"T_5ecd599c_2980_11eb_8c58_00090ffe0001row2_col11\" class=\"data row2 col11\" >BRA</td>\n",
       "            </tr>\n",
       "            <tr>\n",
       "                        <th id=\"T_5ecd599c_2980_11eb_8c58_00090ffe0001level0_row3\" class=\"row_heading level0 row3\" >62</th>\n",
       "                        <td id=\"T_5ecd599c_2980_11eb_8c58_00090ffe0001row3_col0\" class=\"data row3 col0\" >France</td>\n",
       "                        <td id=\"T_5ecd599c_2980_11eb_8c58_00090ffe0001row3_col1\" class=\"data row3 col1\" >2020-11-18 08:26:30</td>\n",
       "                        <td id=\"T_5ecd599c_2980_11eb_8c58_00090ffe0001row3_col2\" class=\"data row3 col2\" >2087183</td>\n",
       "                        <td id=\"T_5ecd599c_2980_11eb_8c58_00090ffe0001row3_col3\" class=\"data row3 col3\" >46346</td>\n",
       "                        <td id=\"T_5ecd599c_2980_11eb_8c58_00090ffe0001row3_col4\" class=\"data row3 col4\" >148669</td>\n",
       "                        <td id=\"T_5ecd599c_2980_11eb_8c58_00090ffe0001row3_col5\" class=\"data row3 col5\" >1892041</td>\n",
       "                        <td id=\"T_5ecd599c_2980_11eb_8c58_00090ffe0001row3_col6\" class=\"data row3 col6\" >3197.595680</td>\n",
       "                        <td id=\"T_5ecd599c_2980_11eb_8c58_00090ffe0001row3_col7\" class=\"data row3 col7\" >nan</td>\n",
       "                        <td id=\"T_5ecd599c_2980_11eb_8c58_00090ffe0001row3_col8\" class=\"data row3 col8\" >nan</td>\n",
       "                        <td id=\"T_5ecd599c_2980_11eb_8c58_00090ffe0001row3_col9\" class=\"data row3 col9\" >2.220505</td>\n",
       "                        <td id=\"T_5ecd599c_2980_11eb_8c58_00090ffe0001row3_col10\" class=\"data row3 col10\" >250</td>\n",
       "                        <td id=\"T_5ecd599c_2980_11eb_8c58_00090ffe0001row3_col11\" class=\"data row3 col11\" >FRA</td>\n",
       "            </tr>\n",
       "            <tr>\n",
       "                        <th id=\"T_5ecd599c_2980_11eb_8c58_00090ffe0001level0_row4\" class=\"row_heading level0 row4\" >141</th>\n",
       "                        <td id=\"T_5ecd599c_2980_11eb_8c58_00090ffe0001row4_col0\" class=\"data row4 col0\" >Russia</td>\n",
       "                        <td id=\"T_5ecd599c_2980_11eb_8c58_00090ffe0001row4_col1\" class=\"data row4 col1\" >2020-11-18 08:26:30</td>\n",
       "                        <td id=\"T_5ecd599c_2980_11eb_8c58_00090ffe0001row4_col2\" class=\"data row4 col2\" >1954912</td>\n",
       "                        <td id=\"T_5ecd599c_2980_11eb_8c58_00090ffe0001row4_col3\" class=\"data row4 col3\" >33619</td>\n",
       "                        <td id=\"T_5ecd599c_2980_11eb_8c58_00090ffe0001row4_col4\" class=\"data row4 col4\" >1465051</td>\n",
       "                        <td id=\"T_5ecd599c_2980_11eb_8c58_00090ffe0001row4_col5\" class=\"data row4 col5\" >456242</td>\n",
       "                        <td id=\"T_5ecd599c_2980_11eb_8c58_00090ffe0001row4_col6\" class=\"data row4 col6\" >1339.582166</td>\n",
       "                        <td id=\"T_5ecd599c_2980_11eb_8c58_00090ffe0001row4_col7\" class=\"data row4 col7\" >nan</td>\n",
       "                        <td id=\"T_5ecd599c_2980_11eb_8c58_00090ffe0001row4_col8\" class=\"data row4 col8\" >nan</td>\n",
       "                        <td id=\"T_5ecd599c_2980_11eb_8c58_00090ffe0001row4_col9\" class=\"data row4 col9\" >1.719719</td>\n",
       "                        <td id=\"T_5ecd599c_2980_11eb_8c58_00090ffe0001row4_col10\" class=\"data row4 col10\" >643</td>\n",
       "                        <td id=\"T_5ecd599c_2980_11eb_8c58_00090ffe0001row4_col11\" class=\"data row4 col11\" >RUS</td>\n",
       "            </tr>\n",
       "            <tr>\n",
       "                        <th id=\"T_5ecd599c_2980_11eb_8c58_00090ffe0001level0_row5\" class=\"row_heading level0 row5\" >160</th>\n",
       "                        <td id=\"T_5ecd599c_2980_11eb_8c58_00090ffe0001row5_col0\" class=\"data row5 col0\" >Spain</td>\n",
       "                        <td id=\"T_5ecd599c_2980_11eb_8c58_00090ffe0001row5_col1\" class=\"data row5 col1\" >2020-11-18 08:26:30</td>\n",
       "                        <td id=\"T_5ecd599c_2980_11eb_8c58_00090ffe0001row5_col2\" class=\"data row5 col2\" >1510023</td>\n",
       "                        <td id=\"T_5ecd599c_2980_11eb_8c58_00090ffe0001row5_col3\" class=\"data row5 col3\" >41688</td>\n",
       "                        <td id=\"T_5ecd599c_2980_11eb_8c58_00090ffe0001row5_col4\" class=\"data row5 col4\" >150376</td>\n",
       "                        <td id=\"T_5ecd599c_2980_11eb_8c58_00090ffe0001row5_col5\" class=\"data row5 col5\" >1317959</td>\n",
       "                        <td id=\"T_5ecd599c_2980_11eb_8c58_00090ffe0001row5_col6\" class=\"data row5 col6\" >3229.665294</td>\n",
       "                        <td id=\"T_5ecd599c_2980_11eb_8c58_00090ffe0001row5_col7\" class=\"data row5 col7\" >nan</td>\n",
       "                        <td id=\"T_5ecd599c_2980_11eb_8c58_00090ffe0001row5_col8\" class=\"data row5 col8\" >nan</td>\n",
       "                        <td id=\"T_5ecd599c_2980_11eb_8c58_00090ffe0001row5_col9\" class=\"data row5 col9\" >2.760753</td>\n",
       "                        <td id=\"T_5ecd599c_2980_11eb_8c58_00090ffe0001row5_col10\" class=\"data row5 col10\" >724</td>\n",
       "                        <td id=\"T_5ecd599c_2980_11eb_8c58_00090ffe0001row5_col11\" class=\"data row5 col11\" >ESP</td>\n",
       "            </tr>\n",
       "            <tr>\n",
       "                        <th id=\"T_5ecd599c_2980_11eb_8c58_00090ffe0001level0_row6\" class=\"row_heading level0 row6\" >180</th>\n",
       "                        <td id=\"T_5ecd599c_2980_11eb_8c58_00090ffe0001row6_col0\" class=\"data row6 col0\" >United Kingdom</td>\n",
       "                        <td id=\"T_5ecd599c_2980_11eb_8c58_00090ffe0001row6_col1\" class=\"data row6 col1\" >2020-11-18 08:26:30</td>\n",
       "                        <td id=\"T_5ecd599c_2980_11eb_8c58_00090ffe0001row6_col2\" class=\"data row6 col2\" >1414359</td>\n",
       "                        <td id=\"T_5ecd599c_2980_11eb_8c58_00090ffe0001row6_col3\" class=\"data row6 col3\" >52839</td>\n",
       "                        <td id=\"T_5ecd599c_2980_11eb_8c58_00090ffe0001row6_col4\" class=\"data row6 col4\" >3148</td>\n",
       "                        <td id=\"T_5ecd599c_2980_11eb_8c58_00090ffe0001row6_col5\" class=\"data row6 col5\" >1358372</td>\n",
       "                        <td id=\"T_5ecd599c_2980_11eb_8c58_00090ffe0001row6_col6\" class=\"data row6 col6\" >2083.432396</td>\n",
       "                        <td id=\"T_5ecd599c_2980_11eb_8c58_00090ffe0001row6_col7\" class=\"data row6 col7\" >nan</td>\n",
       "                        <td id=\"T_5ecd599c_2980_11eb_8c58_00090ffe0001row6_col8\" class=\"data row6 col8\" >nan</td>\n",
       "                        <td id=\"T_5ecd599c_2980_11eb_8c58_00090ffe0001row6_col9\" class=\"data row6 col9\" >3.735897</td>\n",
       "                        <td id=\"T_5ecd599c_2980_11eb_8c58_00090ffe0001row6_col10\" class=\"data row6 col10\" >826</td>\n",
       "                        <td id=\"T_5ecd599c_2980_11eb_8c58_00090ffe0001row6_col11\" class=\"data row6 col11\" >GBR</td>\n",
       "            </tr>\n",
       "            <tr>\n",
       "                        <th id=\"T_5ecd599c_2980_11eb_8c58_00090ffe0001level0_row7\" class=\"row_heading level0 row7\" >6</th>\n",
       "                        <td id=\"T_5ecd599c_2980_11eb_8c58_00090ffe0001row7_col0\" class=\"data row7 col0\" >Argentina</td>\n",
       "                        <td id=\"T_5ecd599c_2980_11eb_8c58_00090ffe0001row7_col1\" class=\"data row7 col1\" >2020-11-18 08:26:30</td>\n",
       "                        <td id=\"T_5ecd599c_2980_11eb_8c58_00090ffe0001row7_col2\" class=\"data row7 col2\" >1329005</td>\n",
       "                        <td id=\"T_5ecd599c_2980_11eb_8c58_00090ffe0001row7_col3\" class=\"data row7 col3\" >36106</td>\n",
       "                        <td id=\"T_5ecd599c_2980_11eb_8c58_00090ffe0001row7_col4\" class=\"data row7 col4\" >1148833</td>\n",
       "                        <td id=\"T_5ecd599c_2980_11eb_8c58_00090ffe0001row7_col5\" class=\"data row7 col5\" >144066</td>\n",
       "                        <td id=\"T_5ecd599c_2980_11eb_8c58_00090ffe0001row7_col6\" class=\"data row7 col6\" >2940.551282</td>\n",
       "                        <td id=\"T_5ecd599c_2980_11eb_8c58_00090ffe0001row7_col7\" class=\"data row7 col7\" >nan</td>\n",
       "                        <td id=\"T_5ecd599c_2980_11eb_8c58_00090ffe0001row7_col8\" class=\"data row7 col8\" >nan</td>\n",
       "                        <td id=\"T_5ecd599c_2980_11eb_8c58_00090ffe0001row7_col9\" class=\"data row7 col9\" >2.716769</td>\n",
       "                        <td id=\"T_5ecd599c_2980_11eb_8c58_00090ffe0001row7_col10\" class=\"data row7 col10\" >32</td>\n",
       "                        <td id=\"T_5ecd599c_2980_11eb_8c58_00090ffe0001row7_col11\" class=\"data row7 col11\" >ARG</td>\n",
       "            </tr>\n",
       "            <tr>\n",
       "                        <th id=\"T_5ecd599c_2980_11eb_8c58_00090ffe0001level0_row8\" class=\"row_heading level0 row8\" >85</th>\n",
       "                        <td id=\"T_5ecd599c_2980_11eb_8c58_00090ffe0001row8_col0\" class=\"data row8 col0\" >Italy</td>\n",
       "                        <td id=\"T_5ecd599c_2980_11eb_8c58_00090ffe0001row8_col1\" class=\"data row8 col1\" >2020-11-18 08:26:30</td>\n",
       "                        <td id=\"T_5ecd599c_2980_11eb_8c58_00090ffe0001row8_col2\" class=\"data row8 col2\" >1238072</td>\n",
       "                        <td id=\"T_5ecd599c_2980_11eb_8c58_00090ffe0001row8_col3\" class=\"data row8 col3\" >46464</td>\n",
       "                        <td id=\"T_5ecd599c_2980_11eb_8c58_00090ffe0001row8_col4\" class=\"data row8 col4\" >457798</td>\n",
       "                        <td id=\"T_5ecd599c_2980_11eb_8c58_00090ffe0001row8_col5\" class=\"data row8 col5\" >733810</td>\n",
       "                        <td id=\"T_5ecd599c_2980_11eb_8c58_00090ffe0001row8_col6\" class=\"data row8 col6\" >2047.691975</td>\n",
       "                        <td id=\"T_5ecd599c_2980_11eb_8c58_00090ffe0001row8_col7\" class=\"data row8 col7\" >nan</td>\n",
       "                        <td id=\"T_5ecd599c_2980_11eb_8c58_00090ffe0001row8_col8\" class=\"data row8 col8\" >nan</td>\n",
       "                        <td id=\"T_5ecd599c_2980_11eb_8c58_00090ffe0001row8_col9\" class=\"data row8 col9\" >3.752932</td>\n",
       "                        <td id=\"T_5ecd599c_2980_11eb_8c58_00090ffe0001row8_col10\" class=\"data row8 col10\" >380</td>\n",
       "                        <td id=\"T_5ecd599c_2980_11eb_8c58_00090ffe0001row8_col11\" class=\"data row8 col11\" >ITA</td>\n",
       "            </tr>\n",
       "            <tr>\n",
       "                        <th id=\"T_5ecd599c_2980_11eb_8c58_00090ffe0001level0_row9\" class=\"row_heading level0 row9\" >37</th>\n",
       "                        <td id=\"T_5ecd599c_2980_11eb_8c58_00090ffe0001row9_col0\" class=\"data row9 col0\" >Colombia</td>\n",
       "                        <td id=\"T_5ecd599c_2980_11eb_8c58_00090ffe0001row9_col1\" class=\"data row9 col1\" >2020-11-18 08:26:30</td>\n",
       "                        <td id=\"T_5ecd599c_2980_11eb_8c58_00090ffe0001row9_col2\" class=\"data row9 col2\" >1211128</td>\n",
       "                        <td id=\"T_5ecd599c_2980_11eb_8c58_00090ffe0001row9_col3\" class=\"data row9 col3\" >34381</td>\n",
       "                        <td id=\"T_5ecd599c_2980_11eb_8c58_00090ffe0001row9_col4\" class=\"data row9 col4\" >1118902</td>\n",
       "                        <td id=\"T_5ecd599c_2980_11eb_8c58_00090ffe0001row9_col5\" class=\"data row9 col5\" >57845</td>\n",
       "                        <td id=\"T_5ecd599c_2980_11eb_8c58_00090ffe0001row9_col6\" class=\"data row9 col6\" >2380.226718</td>\n",
       "                        <td id=\"T_5ecd599c_2980_11eb_8c58_00090ffe0001row9_col7\" class=\"data row9 col7\" >nan</td>\n",
       "                        <td id=\"T_5ecd599c_2980_11eb_8c58_00090ffe0001row9_col8\" class=\"data row9 col8\" >nan</td>\n",
       "                        <td id=\"T_5ecd599c_2980_11eb_8c58_00090ffe0001row9_col9\" class=\"data row9 col9\" >2.838759</td>\n",
       "                        <td id=\"T_5ecd599c_2980_11eb_8c58_00090ffe0001row9_col10\" class=\"data row9 col10\" >170</td>\n",
       "                        <td id=\"T_5ecd599c_2980_11eb_8c58_00090ffe0001row9_col11\" class=\"data row9 col11\" >COL</td>\n",
       "            </tr>\n",
       "    </tbody></table>"
      ],
      "text/plain": [
       "<pandas.io.formats.style.Styler at 0x1be4a9c7070>"
      ]
     },
     "execution_count": 18,
     "metadata": {},
     "output_type": "execute_result"
    }
   ],
   "source": [
    "# define a function 'higlight_col' that takes a dataframe, changes certain column colors by using a temp\n",
    "# and returns the dataframe. \n",
    "\n",
    "def highlight_col(x):\n",
    "    r = 'background-color: salmon'\n",
    "    p = 'background-color: plum'\n",
    "    g = 'background-color: palegreen'\n",
    "    temp_df = pd.DataFrame('', index = x.index, columns = x.columns)\n",
    "    temp_df.iloc[:, 4] = p\n",
    "    temp_df.iloc[:, 5] = r\n",
    "    temp_df.iloc[:, 6] = g\n",
    "    return temp_df\n",
    "    \n",
    "sorted_country_df.head(10).style.apply(highlight_col, axis = None)"
   ]
  }
 ],
 "metadata": {
  "kernelspec": {
   "display_name": "Python 3",
   "language": "python",
   "name": "python3"
  },
  "language_info": {
   "codemirror_mode": {
    "name": "ipython",
    "version": 3
   },
   "file_extension": ".py",
   "mimetype": "text/x-python",
   "name": "python",
   "nbconvert_exporter": "python",
   "pygments_lexer": "ipython3",
   "version": "3.8.2"
  }
 },
 "nbformat": 4,
 "nbformat_minor": 4
}
